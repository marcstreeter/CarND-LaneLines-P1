{
 "cells": [
  {
   "cell_type": "markdown",
   "metadata": {
    "deletable": true,
    "editable": true
   },
   "source": [
    "# Self-Driving Car Engineer Nanodegree\n",
    "\n",
    "\n",
    "## Project: **Finding Lane Lines on the Road** \n",
    "***\n",
    "In this project, you will use the tools you learned about in the lesson to identify lane lines on the road.  You can develop your pipeline on a series of individual images, and later apply the result to a video stream (really just a series of images). Check out the video clip \"raw-lines-example.mp4\" (also contained in this repository) to see what the output should look like after using the helper functions below. \n",
    "\n",
    "Once you have a result that looks roughly like \"raw-lines-example.mp4\", you'll need to get creative and try to average and/or extrapolate the line segments you've detected to map out the full extent of the lane lines.  You can see an example of the result you're going for in the video \"P1_example.mp4\".  Ultimately, you would like to draw just one line for the left side of the lane, and one for the right.\n",
    "\n",
    "In addition to implementing code, there is a brief writeup to complete. The writeup should be completed in a separate file, which can be either a markdown file or a pdf document. There is a [write up template](https://github.com/udacity/CarND-LaneLines-P1/blob/master/writeup_template.md) that can be used to guide the writing process. Completing both the code in the Ipython notebook and the writeup template will cover all of the [rubric points](https://review.udacity.com/#!/rubrics/322/view) for this project.\n",
    "\n",
    "---\n",
    "Let's have a look at our first image called 'test_images/solidWhiteRight.jpg'.  Run the 2 cells below (hit Shift-Enter or the \"play\" button above) to display the image.\n",
    "\n",
    "**Note: If, at any point, you encounter frozen display windows or other confounding issues, you can always start again with a clean slate by going to the \"Kernel\" menu above and selecting \"Restart & Clear Output\".**\n",
    "\n",
    "---"
   ]
  },
  {
   "cell_type": "markdown",
   "metadata": {
    "deletable": true,
    "editable": true
   },
   "source": [
    "**The tools you have are color selection, region of interest selection, grayscaling, Gaussian smoothing, Canny Edge Detection and Hough Tranform line detection.  You  are also free to explore and try other techniques that were not presented in the lesson.  Your goal is piece together a pipeline to detect the line segments in the image, then average/extrapolate them and draw them onto the image for display (as below).  Once you have a working pipeline, try it out on the video stream below.**\n",
    "\n",
    "---\n",
    "\n",
    "<figure>\n",
    " <img src=\"examples/line-segments-example.jpg\" width=\"380\" alt=\"Combined Image\" />\n",
    " <figcaption>\n",
    " <p></p> \n",
    " <p style=\"text-align: center;\"> Your output should look something like this (above) after detecting line segments using the helper functions below </p> \n",
    " </figcaption>\n",
    "</figure>\n",
    " <p></p> \n",
    "<figure>\n",
    " <img src=\"examples/laneLines_thirdPass.jpg\" width=\"380\" alt=\"Combined Image\" />\n",
    " <figcaption>\n",
    " <p></p> \n",
    " <p style=\"text-align: center;\"> Your goal is to connect/average/extrapolate line segments to get output like this</p> \n",
    " </figcaption>\n",
    "</figure>"
   ]
  },
  {
   "cell_type": "markdown",
   "metadata": {
    "deletable": true,
    "editable": true
   },
   "source": [
    "**Run the cell below to import some packages.  If you get an `import error` for a package you've already installed, try changing your kernel (select the Kernel menu above --> Change Kernel).  Still have problems?  Try relaunching Jupyter Notebook from the terminal prompt.  Also, see [this forum post](https://carnd-forums.udacity.com/cq/viewquestion.action?spaceKey=CAR&id=29496372&questionTitle=finding-lanes---import-cv2-fails-even-though-python-in-the-terminal-window-has-no-problem-with-import-cv2) for more troubleshooting tips.**  "
   ]
  },
  {
   "cell_type": "markdown",
   "metadata": {
    "deletable": true,
    "editable": true
   },
   "source": [
    "## Import Packages"
   ]
  },
  {
   "cell_type": "code",
   "execution_count": null,
   "metadata": {
    "collapsed": false,
    "deletable": true,
    "editable": true
   },
   "outputs": [],
   "source": [
    "##importing some useful packages\n",
    "# import matplotlib.pyplot as plt\n",
    "# import matplotlib.image as mpimg\n",
    "# import numpy as np\n",
    "# import cv2\n",
    "# import os\n",
    "# %matplotlib inline"
   ]
  },
  {
   "cell_type": "markdown",
   "metadata": {
    "deletable": true,
    "editable": true
   },
   "source": [
    "## Read in an Image"
   ]
  },
  {
   "cell_type": "code",
   "execution_count": null,
   "metadata": {
    "collapsed": false,
    "deletable": true,
    "editable": true
   },
   "outputs": [],
   "source": [
    "##reading in an image\n",
    "#image = mpimg.imread('test_images/solidWhiteRight.jpg')\n",
    "\n",
    "##printing out some stats and plotting\n",
    "#print('This image is:', type(image), 'with dimensions:', image.shape)\n",
    "#plt.imshow(image)  # if you wanted to show a single color channel image called 'gray', for example, call as plt.imshow(gray, cmap='gray')"
   ]
  },
  {
   "cell_type": "markdown",
   "metadata": {
    "deletable": true,
    "editable": true
   },
   "source": [
    "## Ideas for Lane Detection Pipeline"
   ]
  },
  {
   "cell_type": "markdown",
   "metadata": {
    "deletable": true,
    "editable": true
   },
   "source": [
    "**Some OpenCV functions (beyond those introduced in the lesson) that might be useful for this project are:**\n",
    "\n",
    "`cv2.inRange()` for color selection  \n",
    "`cv2.fillPoly()` for regions selection  \n",
    "`cv2.line()` to draw lines on an image given endpoints  \n",
    "`cv2.addWeighted()` to coadd / overlay two images\n",
    "`cv2.cvtColor()` to grayscale or change color\n",
    "`cv2.imwrite()` to output images to file  \n",
    "`cv2.bitwise_and()` to apply a mask to an image\n",
    "\n",
    "**Check out the OpenCV documentation to learn about these and discover even more awesome functionality!**"
   ]
  },
  {
   "cell_type": "markdown",
   "metadata": {
    "deletable": true,
    "editable": true
   },
   "source": [
    "## Helper Functions"
   ]
  },
  {
   "cell_type": "markdown",
   "metadata": {
    "deletable": true,
    "editable": true
   },
   "source": [
    "Below are some helper functions to help get you started. They should look familiar from the lesson!"
   ]
  },
  {
   "cell_type": "code",
   "execution_count": null,
   "metadata": {
    "collapsed": false,
    "deletable": true,
    "editable": true
   },
   "outputs": [],
   "source": [
    "# built-in\n",
    "import os\n",
    "import math\n",
    "\n",
    "# third-party\n",
    "import matplotlib.pyplot as plt\n",
    "import matplotlib.image as mpimg\n",
    "import numpy as np\n",
    "import cv2\n",
    "\n",
    "past_neg_lines = np.zeros(shape=(15, 4), dtype=int)\n",
    "past_pos_lines = np.zeros(shape=(15, 4), dtype=int)\n",
    "%matplotlib inline\n",
    "\n",
    "# constants \n",
    "apex_ratio = 78/128\n",
    "center_ratio = 17/32\n",
    "marg_tr_ratio = 1/128\n",
    "marg_tl_ratio = 2/32\n",
    "marg_br_ratio = 13/32\n",
    "marg_bl_ratio = 16/32\n",
    "\n",
    "def grayscale(img):\n",
    "    \"\"\"Applies the Grayscale transform\n",
    "    This will return an image with only one color channel\n",
    "    but NOTE: to see the returned image as grayscale\n",
    "    (assuming your grayscaled image is called 'gray')\n",
    "    you should call plt.imshow(gray, cmap='gray')\"\"\"\n",
    "    return cv2.cvtColor(img, cv2.COLOR_RGB2GRAY)\n",
    "    # Or use BGR2GRAY if you read an image with cv2.imread()\n",
    "    #return cv2.cvtColor(img, cv2.COLOR_BGR2GRAY)\n",
    "    \n",
    "def canny(img, low_threshold, high_threshold):\n",
    "    \"\"\"Applies the Canny transform\"\"\"\n",
    "    return cv2.Canny(img, low_threshold, high_threshold)\n",
    "\n",
    "def gaussian_blur(img, kernel_size):\n",
    "    \"\"\"Applies a Gaussian Noise kernel\"\"\"\n",
    "    return cv2.GaussianBlur(img, (kernel_size, kernel_size), 0)\n",
    "\n",
    "def region_of_interest(img, vertices):\n",
    "    \"\"\"\n",
    "    Applies an image mask.\n",
    "    \n",
    "    Only keeps the region of the image defined by the polygon\n",
    "    formed from `vertices`. The rest of the image is set to black.\n",
    "    \"\"\"\n",
    "    #defining a blank mask to start with\n",
    "    mask = np.zeros_like(img)   \n",
    "    \n",
    "    #defining a 3 channel or 1 channel color to fill the mask with depending on the input image\n",
    "    if len(img.shape) > 2:\n",
    "        channel_count = img.shape[2]  # i.e. 3 or 4 depending on your image\n",
    "        ignore_mask_color = (255,) * channel_count\n",
    "    else:\n",
    "        ignore_mask_color = 255\n",
    "        \n",
    "    #filling pixels inside the polygon defined by \"vertices\" with the fill color    \n",
    "    cv2.fillPoly(mask, vertices, ignore_mask_color)\n",
    "    \n",
    "    #returning the image only where mask pixels are nonzero\n",
    "    masked_image = cv2.bitwise_and(img, mask)\n",
    "    return masked_image\n",
    "    \n",
    "def draw_lines(img, lines, color=[255, 0, 0], thickness=2):\n",
    "    \"\"\"\n",
    "    NOTE: this is the function you might want to use as a starting point once you want to \n",
    "    average/extrapolate the line segments you detect to map out the full\n",
    "    extent of the lane (going from the result shown in raw-lines-example.mp4\n",
    "    to that shown in P1_example.mp4).  \n",
    "    \n",
    "    Think about things like separating line segments by their \n",
    "    slope ((y2-y1)/(x2-x1)) to decide which segments are part of the left\n",
    "    line vs. the right line.  Then, you can average the position of each of \n",
    "    the lines and extrapolate to the top and bottom of the lane.\n",
    "    \n",
    "    This function draws `lines` with `color` and `thickness`.    \n",
    "    Lines are drawn on the image inplace (mutates the image).\n",
    "    If you want to make the lines semi-transparent, think about combining\n",
    "    this function with the weighted_img() function below\n",
    "    \"\"\"\n",
    "    # observation:\n",
    "    # the output must be only two major lines\n",
    "    # one should have a negative slope \\ and\n",
    "    # one should have a positive slope /\n",
    "    # combined to be our two lanes /  \\\n",
    "    # the problem is that there will be some that are not solid bars but they should\n",
    "    # share a similar b (intersection with the height of the image) - we'll have to set\n",
    "    # a threshold such that we throw out trash lines that could skew our final average\n",
    "    # differentiate between the two when we get our\n",
    "    # averages and put precedence on the lines closer to the longest\n",
    "    # line in that category\n",
    "    # plan:\n",
    "    # iterate over lines and group them by slope \n",
    "    # iterate over groups and determine prevailing average\n",
    "    # iterate over groups again and throw out values that \n",
    "    # pass a specific threshold\n",
    "    global past_neg_lines\n",
    "    global past_pos_lines\n",
    "    img_height, img_width, _ = img.shape\n",
    "    midway = img_width * center_ratio\n",
    "    negatives = []\n",
    "    positives = []\n",
    "    \n",
    "    \n",
    "    # step 1: iterate over lines and group them by slope\n",
    "    for cur_line in lines:\n",
    "        cur_slope = slope(cur_line)\n",
    "        cx1,cy1,cx2,cy2 = cur_line[0]\n",
    "        \n",
    "        if (cur_slope > 0) and all(x > midway for x in (cx1, cx2)): \n",
    "            # step 1a: group with postives\n",
    "            positives.append((cur_line, cur_slope, line_length(cur_line)))\n",
    "        elif (cur_slope < 0) and all(x < midway for x in (cx1, cx2)): \n",
    "            # step 1b: group with negatives\n",
    "            negatives.append((cur_line, cur_slope, line_length(cur_line)))\n",
    "        else: \n",
    "            # step 2: throw out outliers\n",
    "            continue\n",
    "    \n",
    "    # step 2: average the result lines\n",
    "    positive_line = average(img, *positives)\n",
    "    negative_line = average(img, *negatives)\n",
    "    \n",
    "    # step 3: average over past frames\n",
    "    # step 3a: store current frame line\n",
    "    past_neg_lines = shift_line(\n",
    "        line=negative_line,\n",
    "        past_lines=past_neg_lines\n",
    "    )\n",
    "    past_pos_lines = shift_line(\n",
    "        line=positive_line,\n",
    "        past_lines=past_pos_lines\n",
    "    )\n",
    "    # step3b: give average line\n",
    "    pos_line = best_fit(\n",
    "        image=img, \n",
    "        present_lines=past_pos_lines\n",
    "    )\n",
    "    neg_line = best_fit(\n",
    "        image=img, \n",
    "        present_lines=past_neg_lines\n",
    "    )\n",
    "        \n",
    "    # step 3: draw lines\n",
    "    for line in (l for l in (pos_line, neg_line) if l is not None):\n",
    "        for x1,y1,x2,y2 in line:\n",
    "            cv2.line(img, (x1, y1), (x2, y2), color, thickness)\n",
    "    \n",
    "def hough_lines(img, rho, theta, threshold, min_line_len, max_line_gap):\n",
    "    \"\"\"\n",
    "    `img` should be the output of a Canny transform.\n",
    "        \n",
    "    Returns an image with hough lines drawn.\n",
    "    \"\"\"\n",
    "    lines = cv2.HoughLinesP(img, rho, theta, threshold, np.array([]), minLineLength=min_line_len, maxLineGap=max_line_gap)\n",
    "    line_img = np.zeros((img.shape[0], img.shape[1], 3), dtype=np.uint8)\n",
    "    draw_lines(\n",
    "        img=line_img, \n",
    "        lines=lines,\n",
    "        thickness=8\n",
    "    )\n",
    "    return line_img\n",
    "\n",
    "# Python 3 has support for cool math symbols.\n",
    "\n",
    "def weighted_img(img, initial_img, α=0.8, β=1., λ=0.):\n",
    "    \"\"\"\n",
    "    `img` is the output of the hough_lines(), An image with lines drawn on it.\n",
    "    Should be a blank image (all black) with lines drawn on it.\n",
    "    \n",
    "    `initial_img` should be the image before any processing.\n",
    "    \n",
    "    The result image is computed as follows:\n",
    "    \n",
    "    initial_img * α + img * β + λ\n",
    "    NOTE: initial_img and img must be the same shape!\n",
    "    \"\"\"\n",
    "    return cv2.addWeighted(initial_img, α, img, β, λ)\n",
    "\n",
    "def mask_vertices(image):\n",
    "    \"\"\"\n",
    "    given an image gives the window of interest as a quadrilateral shape\n",
    "    :param image: \n",
    "    :return: numpy array[[(x1, y1),(x2,y2),(x3,y3),(x4,y4)]]\n",
    "    \"\"\"\n",
    "    imshape = image.shape\n",
    "    imheight = imshape[0]\n",
    "    imwidth = imshape[1]\n",
    "    apex=(imheight)*apex_ratio\n",
    "    center=(imwidth)*center_ratio\n",
    "    top_right_margin = center + (imwidth * marg_tr_ratio)\n",
    "    top_left_margin = center - (imwidth * marg_tl_ratio)\n",
    "    bottom_right_margin = center + (imwidth * marg_br_ratio)\n",
    "    bottom_left_margin = center - (imwidth * marg_bl_ratio)\n",
    "    return np.array(\n",
    "        [\n",
    "            [\n",
    "                (bottom_left_margin, imheight), # BOTTOM LEFT\n",
    "                (top_left_margin, apex),  # TOP LEFT\n",
    "                (top_right_margin, apex),  # TOP RIGHT\n",
    "                (bottom_right_margin, imheight) # BOTTOM RIGHT\n",
    "            ]\n",
    "        ],\n",
    "        dtype=np.int32\n",
    "    )\n",
    "\n",
    "def best_fit(image, present_lines):\n",
    "    \"\"\"\n",
    "    purpose: given lines in past frames, attempt to give a\n",
    "             line that best represents their aggregate\n",
    "    plan:    many frames contain the same information and each \n",
    "             frame may do a better job at recognizing a\n",
    "             particular line than another.  all lines should\n",
    "             represent a set of line segment point pairs\n",
    "             using the point pairs find a line that best\n",
    "             fits among the \"trend\" of points\n",
    "    :param image:\n",
    "    :param present_lines: numpy.array([[x1a,y1a,x2a,y2a], [x1b,y1b,x2b,y2b], ...])\n",
    "    \"\"\"\n",
    "    mask = np.all(present_lines==0, axis=1)\n",
    "    # important to remove/mask lines that have all \n",
    "    # lines that are [0,0,0,0] as those are just fillers\n",
    "    # that would throw off our collective best fit line\n",
    "    # (especially in the beginning frames)\n",
    "    non_zero_lines = present_lines[~mask]\n",
    "    # extract x coordinates (x1, x2) from the 1st and 3rd element\n",
    "    x = non_zero_lines[:, [0, 2]].flatten('F')\n",
    "    # extract y coordinates (y1, y2) from the 2nd and 4th element\n",
    "    y = non_zero_lines[:, [1, 3]].flatten('F')\n",
    "    \n",
    "    A = np.vstack([x, np.ones(len(x))]).T\n",
    "    slope, intercept = np.linalg.lstsq(A, y)[0]\n",
    "    \n",
    "    return ymxb(\n",
    "        image=image,\n",
    "        slope=slope,\n",
    "        intercept=intercept\n",
    "    )\n",
    "\n",
    "def shift_line(line, past_lines):\n",
    "    \"\"\"\n",
    "    an implementation of a circular FIFO memory structure\n",
    "    to store past line conclusions\n",
    "    \"\"\"\n",
    "    #x1, y1, x2, y2 = line[0]\n",
    "    if line is None:\n",
    "        return past_lines\n",
    "    else:\n",
    "        present_lines = np.empty_like(past_lines)\n",
    "        present_lines[:1] = np.array(line[0])\n",
    "        present_lines[1:] = past_lines[:-1]\n",
    "        return present_lines\n",
    "    \n",
    "def slope(line):\n",
    "    \"\"\"\n",
    "    determine slope from line\n",
    "    :param line: numpy.array([[x1,y1,x2,y2]])\n",
    "    :return: float (slope of the line based on rise/run equation)\n",
    "    \"\"\"\n",
    "    x1, y1, x2, y2 = line[0]\n",
    "    return (y2 - y1)/(x2 - x1)\n",
    "\n",
    "def intercept(line, slope):\n",
    "    \"\"\"\n",
    "    determines the `b` in `y = mx + b`\n",
    "    therefore\n",
    "    y - mx = b\n",
    "    the y intercept is where y = 0\n",
    "    0 - mx = b\n",
    "    -mx = b\n",
    "    x1, y1 = l, m\n",
    "    x2, y2 = p, q\n",
    "    (y2 - y1)/ (x2 - x1) = slope\n",
    "    \"\"\"\n",
    "    x,y,_,_ = line[0]\n",
    "    return (y - (slope * x))\n",
    "\n",
    "def ymxb(image, slope, intercept):\n",
    "    \"\"\"\n",
    "    purpose: give largest line that fits inside viewing area\n",
    "    plan:    given an intercept and slope we can easily\n",
    "             determine a line that fits in the image dimensions provided\n",
    "    based on \n",
    "    \"\"\"\n",
    "    img_height, _, _ = image.shape\n",
    "    horizon = img_height * apex_ratio\n",
    "    y1 = img_height\n",
    "    y2 = horizon\n",
    "    x1 = (y1 - intercept)/slope\n",
    "    x2 = (y2 - intercept)/slope\n",
    "    \n",
    "    try:\n",
    "        avg_line = np.array(\n",
    "            [\n",
    "                [\n",
    "                    x1,y1,x2,y2\n",
    "                ]\n",
    "            ], \n",
    "            dtype=int\n",
    "        )\n",
    "    except Exception as e:\n",
    "        return None\n",
    "    else:\n",
    "        return avg_line\n",
    "\n",
    "def average(image, *samples):\n",
    "    \"\"\"\n",
    "    purpose: give the averaged line for a frame\n",
    "    plan: as there are many lines that potentially make up\n",
    "          what I really would consider as one line I give\n",
    "          a weighted average of both slope (to give average\n",
    "          orientation of a line) and y intercept (to give \n",
    "          average position of a line).  Weight is determined\n",
    "          by how long of a line is contributing the line\n",
    "          slope or line intercept as longer lines are more \n",
    "          significant in my confidence that a line is more\n",
    "          than an artifact\n",
    "    :param image:\n",
    "    :param samples: different lines sampled on an image \n",
    "                    (hopefully from the same target area)\n",
    "    :return: line | None\n",
    "    \n",
    "    \"\"\"\n",
    "    # get line lengths and make serve as weight\n",
    "    \n",
    "    if not samples:\n",
    "        return None\n",
    "    \n",
    "    weight = sum(\n",
    "        cur_length\n",
    "        for (_,_, cur_length) in samples\n",
    "    )\n",
    "    \n",
    "    weighted_average_slope = (\n",
    "        sum(\n",
    "            cur_slope*cur_length \n",
    "            for (_,cur_slope, cur_length) in samples\n",
    "        ) \n",
    "        / \n",
    "        weight\n",
    "    )\n",
    "    \n",
    "    weighted_average_intercept = (\n",
    "        sum(\n",
    "            intercept(cur_line, cur_slope)*cur_length\n",
    "            for (cur_line, cur_slope, cur_length) in samples\n",
    "        )\n",
    "        /\n",
    "        weight\n",
    "    )\n",
    "    return ymxb(\n",
    "        image=image,\n",
    "        slope=weighted_average_slope,\n",
    "        intercept=weighted_average_intercept\n",
    "    )\n",
    "\n",
    "def line_length(line):\n",
    "    \"\"\"\n",
    "    gives line's length\n",
    "    :param: np.array([[x1, y1, x2, y2]]) representing the line's endpoints\n",
    "    :return float:\n",
    "    \"\"\"\n",
    "    x1,y1,x2,y2 = line[0]\n",
    "    return np.linalg.norm(np.array([x1, y1]) - np.array([x2, y2]))"
   ]
  },
  {
   "cell_type": "markdown",
   "metadata": {
    "deletable": true,
    "editable": true
   },
   "source": [
    "## Build a Lane Finding Pipeline\n",
    "\n"
   ]
  },
  {
   "cell_type": "markdown",
   "metadata": {
    "deletable": true,
    "editable": true
   },
   "source": [
    "Build the pipeline and run your solution on all test_images. Make copies into the `test_images_output` directory, and you can use the images in your writeup report.\n",
    "\n",
    "Try tuning the various parameters, especially the low and high Canny thresholds as well as the Hough lines parameters."
   ]
  },
  {
   "cell_type": "code",
   "execution_count": null,
   "metadata": {
    "collapsed": true,
    "deletable": true,
    "editable": true
   },
   "outputs": [],
   "source": [
    "# TODO: Build your pipeline that will draw lane lines on the test_images/video\n",
    "def image_pipeline(image):\n",
    "    \"\"\"\n",
    "    provides an image with lane lines detected\n",
    "    \"\"\"\n",
    "    \n",
    "    # pipeline\n",
    "    gray_image = grayscale(image)\n",
    "    gray_blurred_image = gaussian_blur(\n",
    "        img=gray_image, \n",
    "        kernel_size=3\n",
    "    )\n",
    "    edges = canny(\n",
    "        img=gray_blurred_image,\n",
    "        low_threshold=50, \n",
    "        high_threshold=150\n",
    "    )\n",
    "    roi = region_of_interest(\n",
    "        img=edges, \n",
    "        vertices=mask_vertices(edges)\n",
    "    )\n",
    "    houghed = hough_lines(\n",
    "        img=roi, \n",
    "        rho=2, \n",
    "        theta=np.pi/180, \n",
    "        threshold=15, \n",
    "        min_line_len=30, \n",
    "        max_line_gap=20\n",
    "    )\n",
    "    weighted = weighted_img(\n",
    "        img=houghed,\n",
    "        initial_img=image\n",
    "    )\n",
    "    return weighted"
   ]
  },
  {
   "cell_type": "markdown",
   "metadata": {
    "deletable": true,
    "editable": true
   },
   "source": [
    "## Test Images\n",
    "\n",
    "Build your pipeline to work on the images in the directory \"test_images\"  \n",
    "**You should make sure your pipeline works well on these images before you try the videos.**"
   ]
  },
  {
   "cell_type": "code",
   "execution_count": null,
   "metadata": {
    "collapsed": false,
    "deletable": true,
    "editable": true
   },
   "outputs": [],
   "source": [
    "# TODO save images ran through the pipeline to the `test_images_output` directory.\n",
    "original_directory = \"test_images\"\n",
    "output_directory = 'test_images_output'\n",
    "# plt.rcParams[\"figure.figsize\"] = (100, 20)\n",
    "for file_name in os.listdir(original_directory):\n",
    "    if not file_name.endswith(\".jpg\"):\n",
    "        continue\n",
    "        \n",
    "    original_img_path = \"{dir}/{file}\".format(\n",
    "        dir=original_directory,\n",
    "        file=file_name\n",
    "    )\n",
    "    image = mpimg.imread(original_img_path)\n",
    "    converted = image_pipeline(image)\n",
    "    output_img_path = \"{dir}/{file}\".format(\n",
    "        dir=output_directory,\n",
    "        file=file_name\n",
    "    )\n",
    "    mpimg.imsave(output_img_path, converted)\n",
    "    #cv2.imwrite(output_img_path, converted) output colors are messed up\n",
    "    plt.imshow(converted)\n",
    "    plt.show()"
   ]
  },
  {
   "cell_type": "markdown",
   "metadata": {
    "deletable": true,
    "editable": true
   },
   "source": [
    "## Test on Videos\n",
    "\n",
    "You know what's cooler than drawing lanes over images? Drawing lanes over video!\n",
    "\n",
    "We can test our solution on two provided videos:\n",
    "\n",
    "`solidWhiteRight.mp4`\n",
    "\n",
    "`solidYellowLeft.mp4`\n",
    "\n",
    "**Note: if you get an `import error` when you run the next cell, try changing your kernel (select the Kernel menu above --> Change Kernel).  Still have problems?  Try relaunching Jupyter Notebook from the terminal prompt. Also, check out [this forum post](https://carnd-forums.udacity.com/questions/22677062/answers/22677109) for more troubleshooting tips.**\n",
    "\n",
    "**If you get an error that looks like this:**\n",
    "```\n",
    "NeedDownloadError: Need ffmpeg exe. \n",
    "You can download it by calling: \n",
    "imageio.plugins.ffmpeg.download()\n",
    "```\n",
    "**Follow the instructions in the error message and check out [this forum post](https://carnd-forums.udacity.com/display/CAR/questions/26218840/import-videofileclip-error) for more troubleshooting tips across operating systems.**"
   ]
  },
  {
   "cell_type": "code",
   "execution_count": null,
   "metadata": {
    "collapsed": true,
    "deletable": true,
    "editable": true
   },
   "outputs": [],
   "source": [
    "# Import everything needed to edit/save/watch video clips\n",
    "from moviepy.editor import VideoFileClip\n",
    "from IPython.display import HTML"
   ]
  },
  {
   "cell_type": "code",
   "execution_count": null,
   "metadata": {
    "collapsed": true,
    "deletable": true,
    "editable": true
   },
   "outputs": [],
   "source": [
    "def process_image(image):\n",
    "    # NOTE: The output you return should be a color image (3 channel) for processing video below\n",
    "    # TODO: put your pipeline here,\n",
    "    # you should return the final output (image where lines are drawn on lanes)\n",
    "\n",
    "    return image_pipeline(image)"
   ]
  },
  {
   "cell_type": "markdown",
   "metadata": {
    "deletable": true,
    "editable": true
   },
   "source": [
    "Let's try the one with the solid white lane on the right first ..."
   ]
  },
  {
   "cell_type": "code",
   "execution_count": null,
   "metadata": {
    "collapsed": false,
    "deletable": true,
    "editable": true
   },
   "outputs": [],
   "source": [
    "past_neg_pts = np.zeros(shape=(10, 2), dtype=int)\n",
    "past_pos_pts = np.zeros(shape=(10, 2), dtype=int)\n",
    "white_output = 'test_videos_output/solidWhiteRight.mp4'\n",
    "clip1 = VideoFileClip(\"test_videos/solidWhiteRight.mp4\")\n",
    "white_clip = clip1.fl_image(process_image) #NOTE: this function expects color images!!\n",
    "%time white_clip.write_videofile(white_output, audio=False)"
   ]
  },
  {
   "cell_type": "markdown",
   "metadata": {
    "deletable": true,
    "editable": true
   },
   "source": [
    "Play the video inline, or if you prefer find the video in your filesystem (should be in the same directory) and play it in your video player of choice."
   ]
  },
  {
   "cell_type": "code",
   "execution_count": null,
   "metadata": {
    "collapsed": false,
    "deletable": true,
    "editable": true
   },
   "outputs": [],
   "source": [
    "HTML(\"\"\"\n",
    "<video width=\"960\" height=\"540\" controls>\n",
    "  <source src=\"{0}\">\n",
    "</video>\n",
    "\"\"\".format(white_output))"
   ]
  },
  {
   "cell_type": "markdown",
   "metadata": {
    "deletable": true,
    "editable": true
   },
   "source": [
    "## Improve the draw_lines() function\n",
    "\n",
    "**At this point, if you were successful with making the pipeline and tuning parameters, you probably have the Hough line segments drawn onto the road, but what about identifying the full extent of the lane and marking it clearly as in the example video (P1_example.mp4)?  Think about defining a line to run the full length of the visible lane based on the line segments you identified with the Hough Transform. As mentioned previously, try to average and/or extrapolate the line segments you've detected to map out the full extent of the lane lines. You can see an example of the result you're going for in the video \"P1_example.mp4\".**\n",
    "\n",
    "**Go back and modify your draw_lines function accordingly and try re-running your pipeline. The new output should draw a single, solid line over the left lane line and a single, solid line over the right lane line. The lines should start from the bottom of the image and extend out to the top of the region of interest.**"
   ]
  },
  {
   "cell_type": "markdown",
   "metadata": {
    "deletable": true,
    "editable": true
   },
   "source": [
    "Now for the one with the solid yellow lane on the left. This one's more tricky!"
   ]
  },
  {
   "cell_type": "code",
   "execution_count": null,
   "metadata": {
    "collapsed": false,
    "deletable": true,
    "editable": true
   },
   "outputs": [],
   "source": [
    "past_neg_pts = np.zeros(shape=(10, 2), dtype=int)\n",
    "past_pos_pts = np.zeros(shape=(10, 2), dtype=int)\n",
    "yellow_output = 'test_videos_output/solidYellowLeft.mp4'\n",
    "clip2 = VideoFileClip('test_videos/solidYellowLeft.mp4')\n",
    "yellow_clip = clip2.fl_image(process_image)\n",
    "%time yellow_clip.write_videofile(yellow_output, audio=False)"
   ]
  },
  {
   "cell_type": "code",
   "execution_count": null,
   "metadata": {
    "collapsed": false,
    "deletable": true,
    "editable": true
   },
   "outputs": [],
   "source": [
    "HTML(\"\"\"\n",
    "<video width=\"960\" height=\"540\" controls>\n",
    "  <source src=\"{0}\">\n",
    "</video>\n",
    "\"\"\".format(yellow_output))"
   ]
  },
  {
   "cell_type": "markdown",
   "metadata": {
    "deletable": true,
    "editable": true
   },
   "source": [
    "## Writeup and Submission\n",
    "\n",
    "If you're satisfied with your video outputs, it's time to make the report writeup in a pdf or markdown file. Once you have this Ipython notebook ready along with the writeup, it's time to submit for review! Here is a [link](https://github.com/udacity/CarND-LaneLines-P1/blob/master/writeup_template.md) to the writeup template file.\n"
   ]
  },
  {
   "cell_type": "markdown",
   "metadata": {
    "collapsed": true,
    "deletable": true,
    "editable": true
   },
   "source": [
    "## Optional Challenge\n",
    "\n",
    "Try your lane finding pipeline on the video below.  Does it still work?  Can you figure out a way to make it more robust?  If you're up for the challenge, modify your pipeline so it works with this video and submit it along with the rest of your project!"
   ]
  },
  {
   "cell_type": "code",
   "execution_count": null,
   "metadata": {
    "collapsed": false,
    "deletable": true,
    "editable": true
   },
   "outputs": [],
   "source": [
    "challenge_output = 'test_videos_output/challenge.mp4'\n",
    "clip2 = VideoFileClip('test_videos/challenge.mp4')\n",
    "challenge_clip = clip2.fl_image(process_image)\n",
    "%time challenge_clip.write_videofile(challenge_output, audio=False)"
   ]
  },
  {
   "cell_type": "code",
   "execution_count": null,
   "metadata": {
    "collapsed": false,
    "deletable": true,
    "editable": true
   },
   "outputs": [],
   "source": [
    "HTML(\"\"\"\n",
    "<video width=\"960\" height=\"540\" controls>\n",
    "  <source src=\"{0}\">\n",
    "</video>\n",
    "\"\"\".format(challenge_output))"
   ]
  }
 ],
 "metadata": {
  "anaconda-cloud": {},
  "kernelspec": {
   "display_name": "Python 3",
   "language": "python",
   "name": "python3"
  },
  "language_info": {
   "codemirror_mode": {
    "name": "ipython",
    "version": 3
   },
   "file_extension": ".py",
   "mimetype": "text/x-python",
   "name": "python",
   "nbconvert_exporter": "python",
   "pygments_lexer": "ipython3",
   "version": "3.5.2"
  },
  "widgets": {
   "state": {},
   "version": "1.1.2"
  }
 },
 "nbformat": 4,
 "nbformat_minor": 0
}
